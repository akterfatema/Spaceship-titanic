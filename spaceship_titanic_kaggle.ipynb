{
  "nbformat": 4,
  "nbformat_minor": 0,
  "metadata": {
    "colab": {
      "provenance": []
    },
    "kernelspec": {
      "name": "python3",
      "display_name": "Python 3"
    },
    "language_info": {
      "name": "python"
    }
  },
  "cells": [
    {
      "cell_type": "code",
      "execution_count": 1,
      "metadata": {
        "id": "3yDIGoabWz_C"
      },
      "outputs": [],
      "source": [
        "from google.colab import drive"
      ]
    },
    {
      "cell_type": "code",
      "source": [
        "drive.mount('/content/drive')"
      ],
      "metadata": {
        "id": "jwVblb4vce3m",
        "colab": {
          "base_uri": "https://localhost:8080/"
        },
        "outputId": "7f97879d-9020-47bd-e294-f7493aeaa33c"
      },
      "execution_count": 2,
      "outputs": [
        {
          "output_type": "stream",
          "name": "stdout",
          "text": [
            "Mounted at /content/drive\n"
          ]
        }
      ]
    },
    {
      "cell_type": "code",
      "source": [
        "#creating dataframes\n",
        "import pandas as pd\n",
        "train_df = pd.read_csv('/content/drive/MyDrive/CSE366/train.csv')\n",
        "test_df = pd.read_csv('/content/drive/MyDrive/CSE366/test.csv')"
      ],
      "metadata": {
        "id": "yOlS-NUqd1Kw"
      },
      "execution_count": 3,
      "outputs": []
    },
    {
      "cell_type": "code",
      "source": [
        "train_df.info()"
      ],
      "metadata": {
        "id": "KDodz6kYfViJ",
        "colab": {
          "base_uri": "https://localhost:8080/"
        },
        "outputId": "da48727c-6c5f-469b-82f0-84dcf727f74c"
      },
      "execution_count": 4,
      "outputs": [
        {
          "output_type": "stream",
          "name": "stdout",
          "text": [
            "<class 'pandas.core.frame.DataFrame'>\n",
            "RangeIndex: 8693 entries, 0 to 8692\n",
            "Data columns (total 14 columns):\n",
            " #   Column        Non-Null Count  Dtype  \n",
            "---  ------        --------------  -----  \n",
            " 0   PassengerId   8693 non-null   object \n",
            " 1   HomePlanet    8492 non-null   object \n",
            " 2   CryoSleep     8476 non-null   object \n",
            " 3   Cabin         8494 non-null   object \n",
            " 4   Destination   8511 non-null   object \n",
            " 5   Age           8514 non-null   float64\n",
            " 6   VIP           8490 non-null   object \n",
            " 7   RoomService   8512 non-null   float64\n",
            " 8   FoodCourt     8510 non-null   float64\n",
            " 9   ShoppingMall  8485 non-null   float64\n",
            " 10  Spa           8510 non-null   float64\n",
            " 11  VRDeck        8505 non-null   float64\n",
            " 12  Name          8493 non-null   object \n",
            " 13  Transported   8693 non-null   bool   \n",
            "dtypes: bool(1), float64(6), object(7)\n",
            "memory usage: 891.5+ KB\n"
          ]
        }
      ]
    },
    {
      "cell_type": "code",
      "source": [
        "test_df.info()"
      ],
      "metadata": {
        "colab": {
          "base_uri": "https://localhost:8080/"
        },
        "id": "eSD1YDPViUdx",
        "outputId": "c9158e0a-ddf8-4cdf-dbb0-4a5ff5ba4f4a"
      },
      "execution_count": 5,
      "outputs": [
        {
          "output_type": "stream",
          "name": "stdout",
          "text": [
            "<class 'pandas.core.frame.DataFrame'>\n",
            "RangeIndex: 4277 entries, 0 to 4276\n",
            "Data columns (total 13 columns):\n",
            " #   Column        Non-Null Count  Dtype  \n",
            "---  ------        --------------  -----  \n",
            " 0   PassengerId   4277 non-null   object \n",
            " 1   HomePlanet    4190 non-null   object \n",
            " 2   CryoSleep     4184 non-null   object \n",
            " 3   Cabin         4177 non-null   object \n",
            " 4   Destination   4185 non-null   object \n",
            " 5   Age           4186 non-null   float64\n",
            " 6   VIP           4184 non-null   object \n",
            " 7   RoomService   4195 non-null   float64\n",
            " 8   FoodCourt     4171 non-null   float64\n",
            " 9   ShoppingMall  4179 non-null   float64\n",
            " 10  Spa           4176 non-null   float64\n",
            " 11  VRDeck        4197 non-null   float64\n",
            " 12  Name          4183 non-null   object \n",
            "dtypes: float64(6), object(7)\n",
            "memory usage: 434.5+ KB\n"
          ]
        }
      ]
    },
    {
      "cell_type": "markdown",
      "source": [
        "# Data Cleaning and Preprocessing"
      ],
      "metadata": {
        "id": "f7a2Xp9n-UBU"
      }
    },
    {
      "cell_type": "code",
      "source": [
        "# dropping unnecessary columns\n",
        "train_df.drop(['PassengerId', 'Name', 'Cabin'], axis = 1, inplace = True)\n",
        "test_df.drop(['Name', 'Cabin'], axis = 1, inplace = True)"
      ],
      "metadata": {
        "id": "Z2z2oq_7t7mA"
      },
      "execution_count": 6,
      "outputs": []
    },
    {
      "cell_type": "code",
      "source": [
        "# Checking for null values in train data\n",
        "print(train_df.isnull().sum())"
      ],
      "metadata": {
        "colab": {
          "base_uri": "https://localhost:8080/"
        },
        "id": "Ec8zgBSfjbm3",
        "outputId": "0daa2933-f276-4c7f-e9b9-9dd9b068c870"
      },
      "execution_count": 7,
      "outputs": [
        {
          "output_type": "stream",
          "name": "stdout",
          "text": [
            "HomePlanet      201\n",
            "CryoSleep       217\n",
            "Destination     182\n",
            "Age             179\n",
            "VIP             203\n",
            "RoomService     181\n",
            "FoodCourt       183\n",
            "ShoppingMall    208\n",
            "Spa             183\n",
            "VRDeck          188\n",
            "Transported       0\n",
            "dtype: int64\n"
          ]
        }
      ]
    },
    {
      "cell_type": "code",
      "source": [
        "print(test_df.isnull().sum())"
      ],
      "metadata": {
        "colab": {
          "base_uri": "https://localhost:8080/"
        },
        "id": "dHxWgZpNGaMc",
        "outputId": "34b081cf-93fe-47de-b7c5-fec9e3fdc3a6"
      },
      "execution_count": 8,
      "outputs": [
        {
          "output_type": "stream",
          "name": "stdout",
          "text": [
            "PassengerId       0\n",
            "HomePlanet       87\n",
            "CryoSleep        93\n",
            "Destination      92\n",
            "Age              91\n",
            "VIP              93\n",
            "RoomService      82\n",
            "FoodCourt       106\n",
            "ShoppingMall     98\n",
            "Spa             101\n",
            "VRDeck           80\n",
            "dtype: int64\n"
          ]
        }
      ]
    },
    {
      "cell_type": "code",
      "source": [
        "# spliting the categorical and numerical attributes \n",
        "df_Cat = train_df.loc[:,[x for x in train_df.columns if x in ['HomePlanet', 'CryoSleep', 'Destination', 'VIP']]]\n",
        "df_T = train_df.loc[:, 'Transported']\n",
        "df_Num = train_df.loc[:,[x for x in train_df.columns if x in ['Age', 'RoomService', 'FoodCourt', 'ShoppingMall', 'Spa', 'VRDeck']]]\n",
        "\n",
        "test_df_Cat = test_df.loc[:,[x for x in test_df.columns if x in ['HomePlanet', 'CryoSleep', 'Destination', 'VIP']]]\n",
        "test_df_Num = test_df.loc[:,[x for x in test_df.columns if x in ['Age', 'RoomService', 'FoodCourt', 'ShoppingMall', 'Spa', 'VRDeck']]]\n",
        "\n",
        "print(isinstance(df_Cat, pd.DataFrame))\n",
        "print(isinstance(df_Num, pd.DataFrame))\n",
        "print(isinstance(test_df_Cat, pd.DataFrame))\n",
        "print(isinstance(test_df_Num, pd.DataFrame))"
      ],
      "metadata": {
        "id": "TcDb7ezS1HD-",
        "colab": {
          "base_uri": "https://localhost:8080/"
        },
        "outputId": "b3b75c84-e1c6-478e-dca7-5e350e824695"
      },
      "execution_count": 9,
      "outputs": [
        {
          "output_type": "stream",
          "name": "stdout",
          "text": [
            "True\n",
            "True\n",
            "True\n",
            "True\n"
          ]
        }
      ]
    },
    {
      "cell_type": "code",
      "source": [
        "# imputing the categorical attributes in most frequent strategy\n",
        "from sklearn.impute import SimpleImputer\n",
        "imp_Cat = SimpleImputer(strategy = \"most_frequent\")\n",
        "df_Cat_up = imp_Cat.fit_transform(df_Cat)\n",
        "test_df_Cat_up = imp_Cat.fit_transform(test_df_Cat)\n",
        "\n",
        "# imputing the numerical attributes in mean strategy\n",
        "imp_Num = SimpleImputer(strategy = 'mean')\n",
        "df_Num_up = imp_Num.fit_transform(df_Num)\n",
        "test_df_Num_up = imp_Num.fit_transform(test_df_Num)\n",
        "\n",
        "print(isinstance(df_Cat_up, pd.DataFrame))\n",
        "print(isinstance(df_Num, pd.DataFrame))\n",
        "print(df_Cat_up[47])"
      ],
      "metadata": {
        "id": "orfSF7XL3sKT",
        "colab": {
          "base_uri": "https://localhost:8080/"
        },
        "outputId": "ea6fa954-c85f-4ca9-956c-feace38d92cd"
      },
      "execution_count": 10,
      "outputs": [
        {
          "output_type": "stream",
          "name": "stdout",
          "text": [
            "False\n",
            "True\n",
            "['Mars' True 'TRAPPIST-1e' False]\n"
          ]
        }
      ]
    },
    {
      "cell_type": "code",
      "source": [
        "# label encoding the categorical values\n",
        "from sklearn.preprocessing import LabelEncoder\n",
        "for i in range(len(df_Cat.columns)):\n",
        "    df_Cat_up[:, i] = LabelEncoder().fit_transform(df_Cat_up[:, i])\n",
        "df_T = LabelEncoder().fit_transform(df_T)\n",
        "for i in range(len(test_df_Cat.columns)):\n",
        "    test_df_Cat_up[:, i] = LabelEncoder().fit_transform(test_df_Cat_up[:, i])\n",
        "print(df_Cat_up)\n",
        "# print(test_df_Cat_up)"
      ],
      "metadata": {
        "id": "76Kr7-maCi-j",
        "colab": {
          "base_uri": "https://localhost:8080/"
        },
        "outputId": "af265628-714e-43c2-9560-187a09ede7b7"
      },
      "execution_count": 11,
      "outputs": [
        {
          "output_type": "stream",
          "name": "stdout",
          "text": [
            "[[1 0 2 0]\n",
            " [0 0 2 0]\n",
            " [1 0 2 1]\n",
            " ...\n",
            " [0 0 2 0]\n",
            " [1 0 0 0]\n",
            " [1 0 2 0]]\n"
          ]
        }
      ]
    },
    {
      "cell_type": "code",
      "source": [
        "#Feature Scaling of numerical values\n",
        "from sklearn.preprocessing import MinMaxScaler\n",
        "for i in range(len(df_Num.columns)):\n",
        "  df_Num_up[:, [i]] = MinMaxScaler().fit_transform(df_Num_up[:, [i]])\n",
        "for i in range(len(test_df_Num.columns)):\n",
        "  test_df_Num_up[:, [i]] = MinMaxScaler().fit_transform(test_df_Num_up[:, [i]])\n",
        "# print(df_Num_up)\n",
        "# print(test_df_Num_up)"
      ],
      "metadata": {
        "id": "7qZSX2YaeEnq"
      },
      "execution_count": 12,
      "outputs": []
    },
    {
      "cell_type": "code",
      "source": [
        "import numpy as np\n",
        "con = np.concatenate((df_Cat_up, df_Num_up), axis = 1)\n",
        "test_con = np.concatenate((test_df_Cat_up, test_df_Num_up), axis = 1)\n",
        "# print(con.shape)"
      ],
      "metadata": {
        "id": "Ly84tdEPjv0r"
      },
      "execution_count": 13,
      "outputs": []
    },
    {
      "cell_type": "code",
      "source": [
        "from sklearn.tree import DecisionTreeClassifier\n",
        "from sklearn.linear_model import LogisticRegression\n",
        "from sklearn.naive_bayes import GaussianNB  \n",
        "from sklearn.ensemble import RandomForestClassifier \n",
        "from sklearn.linear_model import LinearRegression"
      ],
      "metadata": {
        "id": "qqrMcWBEQ2GX"
      },
      "execution_count": 14,
      "outputs": []
    },
    {
      "cell_type": "markdown",
      "source": [
        "# Generating submission files for Kaggle:"
      ],
      "metadata": {
        "id": "sx6vxYy8ksWs"
      }
    },
    {
      "cell_type": "code",
      "source": [
        "DT = DecisionTreeClassifier(criterion='entropy').fit(con, df_T)\n",
        "predict_test = DT.predict(test_con)\n",
        "d = {'PassengerId':test_df['PassengerId'],'Transported':[False if x==0 else True for x in predict_test]}\n",
        "predict_test_df = pd.DataFrame(d)\n",
        "predict_test_df.to_csv('/content/drive/MyDrive/CSE366/DT_Submission.csv', index=False)"
      ],
      "metadata": {
        "id": "69OSMe3qRa8k"
      },
      "execution_count": 15,
      "outputs": []
    },
    {
      "cell_type": "code",
      "source": [
        "LR = LogisticRegression().fit(con, df_T)\n",
        "predict_test = LR.predict(test_con)\n",
        "d = {'PassengerId':test_df['PassengerId'],'Transported':[False if x==0 else True for x in predict_test]}\n",
        "predict_test_df = pd.DataFrame(d)\n",
        "predict_test_df.to_csv('/content/drive/MyDrive/CSE366/LR_Submission.csv', index=False)"
      ],
      "metadata": {
        "id": "1_9kqrNYYp_A"
      },
      "execution_count": 16,
      "outputs": []
    },
    {
      "cell_type": "code",
      "source": [
        "NB = GaussianNB().fit(con, df_T)\n",
        "predict_test = NB.predict(test_con)\n",
        "d = {'PassengerId':test_df['PassengerId'],'Transported':[False if x==0 else True for x in predict_test]}\n",
        "predict_test_df = pd.DataFrame(d)\n",
        "predict_test_df.to_csv('/content/drive/MyDrive/CSE366/NB_Submission.csv', index=False)"
      ],
      "metadata": {
        "id": "i8xbi9VXbWLr"
      },
      "execution_count": 17,
      "outputs": []
    },
    {
      "cell_type": "code",
      "source": [
        "RF = RandomForestClassifier().fit(con, df_T)\n",
        "predict_test = RF.predict(test_con)\n",
        "d = {'PassengerId':test_df['PassengerId'],'Transported':[False if x==0 else True for x in predict_test]}\n",
        "predict_test_df = pd.DataFrame(d)\n",
        "predict_test_df.to_csv('/content/drive/MyDrive/CSE366/RF_Submission.csv', index=False)"
      ],
      "metadata": {
        "id": "yZbvxb0FcQ0U"
      },
      "execution_count": 18,
      "outputs": []
    },
    {
      "cell_type": "code",
      "source": [
        "# LR = LinearRegression().fit(con, df_T)\n",
        "# predict_test = LR.predict(test_con)\n",
        "# d = {'PassengerId':test_df['PassengerId'],'Transported':[False if x==0 else True for x in predict_test]}\n",
        "# predict_test_df = pd.DataFrame(d)\n",
        "# predict_test_df.to_csv('/content/drive/MyDrive/CSE366/LR_Submission.csv', index=False)"
      ],
      "metadata": {
        "id": "tLT0xX1ghDdy"
      },
      "execution_count": 19,
      "outputs": []
    },
    {
      "cell_type": "markdown",
      "source": [
        "# Spliting and measuring the performance of the model"
      ],
      "metadata": {
        "id": "KLPVyb6xlVEu"
      }
    },
    {
      "cell_type": "code",
      "source": [
        "# train test split\n",
        "from sklearn.model_selection import train_test_split\n",
        "train_x, test_x, train_y, test_y = train_test_split(con, df_T, test_size = 0.3, random_state = 10)"
      ],
      "metadata": {
        "id": "Que_YkF_jhX_"
      },
      "execution_count": 50,
      "outputs": []
    },
    {
      "cell_type": "code",
      "source": [
        "from sklearn.metrics import confusion_matrix, ConfusionMatrixDisplay\n",
        "import matplotlib.pyplot as plt\n",
        "from sklearn.metrics import accuracy_score\n",
        "from sklearn.metrics import precision_score\n",
        "from sklearn.metrics import recall_score\n",
        "from sklearn.metrics import f1_score\n",
        "\n",
        "def measure_performance(res, predict_test , predict_train, test_y, train_y):    \n",
        "    print(res)\n",
        "    cm = confusion_matrix(test_y,predict_test, labels=res.classes_)\n",
        "    disp = ConfusionMatrixDisplay(confusion_matrix=cm, display_labels=res.classes_)\n",
        "    disp.plot()\n",
        "    plt.show()\n",
        "\n",
        "    print(\"Accuracy Score:\",\"%.5f\" % accuracy_score(test_y, predict_test))\n",
        "    print(\"Precision Score:\",\"%.5f\" % precision_score(test_y, predict_test))\n",
        "    print(\"Recall Score:\",\"%.5f\" % recall_score(test_y, predict_test))\n",
        "    print(\"F1 Score:\",\"%.5f\" % f1_score(test_y, predict_test))"
      ],
      "metadata": {
        "id": "8bfBlaGUmiTR"
      },
      "execution_count": 51,
      "outputs": []
    },
    {
      "cell_type": "code",
      "source": [
        "DT = DecisionTreeClassifier(criterion='entropy').fit(train_x, train_y)\n",
        "predict_test = DT.predict(test_x)\n",
        "predict_train = DT.predict(train_x)\n",
        "measure_performance(DT, predict_test, predict_train, test_y, train_y)"
      ],
      "metadata": {
        "colab": {
          "base_uri": "https://localhost:8080/",
          "height": 366
        },
        "id": "ZDZl3tpHkej5",
        "outputId": "2aeae448-0fa3-4184-8584-96e3487d86d5"
      },
      "execution_count": 52,
      "outputs": [
        {
          "output_type": "stream",
          "name": "stdout",
          "text": [
            "DecisionTreeClassifier(criterion='entropy')\n"
          ]
        },
        {
          "output_type": "display_data",
          "data": {
            "text/plain": [
              "<Figure size 432x288 with 2 Axes>"
            ],
            "image/png": "[encoded data removed]"
          },
          "metadata": {
            "needs_background": "light"
          }
        },
        {
          "output_type": "stream",
          "name": "stdout",
          "text": [
            "Accuracy Score: 0.73926\n",
            "Precision Score: 0.71943\n",
            "Recall Score: 0.78248\n",
            "F1 Score: 0.74963\n"
          ]
        }
      ]
    },
    {
      "cell_type": "code",
      "source": [
        "LR = LogisticRegression().fit(train_x, train_y)\n",
        "predict_test = LR.predict(test_x)\n",
        "predict_train = LR.predict(train_x)\n",
        "measure_performance(LR, predict_test, predict_train, test_y, train_y)"
      ],
      "metadata": {
        "colab": {
          "base_uri": "https://localhost:8080/",
          "height": 366
        },
        "id": "CY8yP4wqqquo",
        "outputId": "0808eae1-5edb-4c60-ffaa-77485e827d20"
      },
      "execution_count": 53,
      "outputs": [
        {
          "output_type": "stream",
          "name": "stdout",
          "text": [
            "LogisticRegression()\n"
          ]
        },
        {
          "output_type": "display_data",
          "data": {
            "text/plain": [
              "<Figure size 432x288 with 2 Axes>"
            ],
            "image/png": "[encoded data removed]"
          },
          "metadata": {
            "needs_background": "light"
          }
        },
        {
          "output_type": "stream",
          "name": "stdout",
          "text": [
            "Accuracy Score: 0.74502\n",
            "Precision Score: 0.78142\n",
            "Recall Score: 0.67871\n",
            "F1 Score: 0.72645\n"
          ]
        }
      ]
    },
    {
      "cell_type": "code",
      "source": [
        "NB = GaussianNB().fit(train_x, train_y)\n",
        "predict_test = NB.predict(test_x)\n",
        "predict_train = NB.predict(train_x)\n",
        "measure_performance(NB, predict_test, predict_train, test_y, train_y)"
      ],
      "metadata": {
        "colab": {
          "base_uri": "https://localhost:8080/",
          "height": 366
        },
        "id": "XPg2uqlDrDEA",
        "outputId": "89dc1f5f-1075-4c35-b82b-0fb6021837cc"
      },
      "execution_count": 54,
      "outputs": [
        {
          "output_type": "stream",
          "name": "stdout",
          "text": [
            "GaussianNB()\n"
          ]
        },
        {
          "output_type": "display_data",
          "data": {
            "text/plain": [
              "<Figure size 432x288 with 2 Axes>"
            ],
            "image/png": "[encoded data removed]"
          },
          "metadata": {
            "needs_background": "light"
          }
        },
        {
          "output_type": "stream",
          "name": "stdout",
          "text": [
            "Accuracy Score: 0.67830\n",
            "Precision Score: 0.61932\n",
            "Recall Score: 0.92160\n",
            "F1 Score: 0.74081\n"
          ]
        }
      ]
    },
    {
      "cell_type": "code",
      "source": [
        "RF = RandomForestClassifier().fit(train_x, train_y)\n",
        "predict_test = RF.predict(test_x)\n",
        "predict_train = RF.predict(train_x)\n",
        "measure_performance(RF, predict_test, predict_train, test_y, train_y)"
      ],
      "metadata": {
        "colab": {
          "base_uri": "https://localhost:8080/",
          "height": 366
        },
        "id": "0BumrAqgrXhX",
        "outputId": "137d30bc-22d9-4b01-f7e5-dd9b0e78b49d"
      },
      "execution_count": 55,
      "outputs": [
        {
          "output_type": "stream",
          "name": "stdout",
          "text": [
            "RandomForestClassifier()\n"
          ]
        },
        {
          "output_type": "display_data",
          "data": {
            "text/plain": [
              "<Figure size 432x288 with 2 Axes>"
            ],
            "image/png": "[encoded data removed]"
          },
          "metadata": {
            "needs_background": "light"
          }
        },
        {
          "output_type": "stream",
          "name": "stdout",
          "text": [
            "Accuracy Score: 0.77722\n",
            "Precision Score: 0.77356\n",
            "Recall Score: 0.78248\n",
            "F1 Score: 0.77799\n"
          ]
        }
      ]
    }
  ]
}